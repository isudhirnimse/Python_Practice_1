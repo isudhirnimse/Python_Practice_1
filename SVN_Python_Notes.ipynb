{
  "nbformat": 4,
  "nbformat_minor": 0,
  "metadata": {
    "colab": {
      "provenance": [],
      "authorship_tag": "ABX9TyNCPVn0Lzepyhz1tj1bNPHf",
      "include_colab_link": true
    },
    "kernelspec": {
      "name": "python3",
      "display_name": "Python 3"
    },
    "language_info": {
      "name": "python"
    }
  },
  "cells": [
    {
      "cell_type": "markdown",
      "metadata": {
        "id": "view-in-github",
        "colab_type": "text"
      },
      "source": [
        "<a href=\"https://colab.research.google.com/github/isudhirnimse/Python_Practice_1/blob/main/SVN_Python_Notes.ipynb\" target=\"_parent\"><img src=\"https://colab.research.google.com/assets/colab-badge.svg\" alt=\"Open In Colab\"/></a>"
      ]
    },
    {
      "cell_type": "markdown",
      "source": [
        "Session 1:\n",
        "1. Python is a both compiled and interpreted programming language\n",
        "Following process happens ->\n",
        "Human understandable/written code which is also called as source code (its extension is .py) -> Compiler (Compiler converts source code to a byte code, which both humans and machine don't understand (its extension is .pyc) -> PVM (python virtual machine) Interpreter convert the byte code to machine code/binary code. Now Interpreter is a Part of PVN it comes as a package hence the code interpretation happens in PVM.\n",
        "2. Why Python? (Prepare for interview)\n",
        "\n"
      ],
      "metadata": {
        "id": "P9PKT3CJws1X"
      }
    },
    {
      "cell_type": "markdown",
      "source": [
        "3.Print function:\n",
        "-> In Python print is a built in function and is used to display the value of object to the output stream, typically the console. -> default behaviour for end ='\\n' is line change so if we type two print functions they will get printed in two different lines. We can also change the default behaviour end = '' by providing the values in the cotes this time output will be printed on same line separated by -."
      ],
      "metadata": {
        "id": "vIgM4PzUxAcE"
      }
    },
    {
      "cell_type": "code",
      "source": [
        "# Behavior of sep = ''\n",
        "# Here as we have not provided the separater value hence the string is separated by space\n",
        "print(\"A\"\"B\"\"C\")"
      ],
      "metadata": {
        "colab": {
          "base_uri": "https://localhost:8080/"
        },
        "id": "88MaTQnLxsF7",
        "outputId": "cf755896-1ce0-45e9-fbfd-917efec9b9bd"
      },
      "execution_count": 35,
      "outputs": [
        {
          "output_type": "stream",
          "name": "stdout",
          "text": [
            "ABC\n"
          ]
        }
      ]
    },
    {
      "cell_type": "code",
      "source": [
        "# comma will add a space in between the strings.\n",
        "print(\"A\",\"B\",\"C\")"
      ],
      "metadata": {
        "colab": {
          "base_uri": "https://localhost:8080/"
        },
        "id": "jsWcCMKwzFLy",
        "outputId": "b6b1316a-a753-47ce-c0fe-e418e415a229"
      },
      "execution_count": 38,
      "outputs": [
        {
          "output_type": "stream",
          "name": "stdout",
          "text": [
            "A B C\n"
          ]
        }
      ]
    },
    {
      "cell_type": "code",
      "source": [
        "# This time we will provide some value in spe\n",
        "# Here sep will only work where ever we have provided the the comma\n",
        "print (\"A\",\"B\",\"C\",sep='/')"
      ],
      "metadata": {
        "colab": {
          "base_uri": "https://localhost:8080/"
        },
        "id": "uYEmLPWRyOfk",
        "outputId": "abbc5127-f0a6-41ec-c23a-800b97f926fa"
      },
      "execution_count": 37,
      "outputs": [
        {
          "output_type": "stream",
          "name": "stdout",
          "text": [
            "A/B/C\n"
          ]
        }
      ]
    },
    {
      "cell_type": "markdown",
      "source": [
        "4.Dynamic typing: In dynamic typing we do not need to specify the data type of variable\n",
        "Example:\n",
        "In Python -> a = ‘Sudhir’ here we have created a string variable without declaring its data type and this type of typing is called as Dynamic typing.\n",
        "In C/C++ -> int a = Sudhir this type of typing is called as static typing.   \n",
        "5.Dynamic binding:\n",
        "In dynamic binding same variable can store the reference of different data types is same program\n",
        "For example : a = 5 -> here it have stored data as integer\n",
        "and a = 'Sudir' -> Here we have stored the data as string\n",
        "So in python when we crate any data type it do not have any fixed data type it can be chaged any time.\n",
        "But other programming like C,C++,Java does not support Dyanmic binding.\n",
        "They Support Static Binding. Static binding is opposite of Dynamic binding.\n",
        "Onece data type of variable is declared within same program it can not be changed.\n"
      ],
      "metadata": {
        "id": "L4i6G6Ydxi5v"
      }
    },
    {
      "cell_type": "code",
      "source": [
        "# Dynamic binding exmaple:\n",
        "a = 5\n",
        "print(a)\n",
        "print(type(a))\n",
        "a = 'Sudhir'\n",
        "print(a)\n",
        "print(type(a))"
      ],
      "metadata": {
        "colab": {
          "base_uri": "https://localhost:8080/"
        },
        "id": "LnyIUBzc1GyF",
        "outputId": "9446b957-1eb9-4577-e39d-005b796719ed"
      },
      "execution_count": 43,
      "outputs": [
        {
          "output_type": "stream",
          "name": "stdout",
          "text": [
            "5\n",
            "<class 'int'>\n",
            "Sudhir\n",
            "<class 'str'>\n"
          ]
        }
      ]
    },
    {
      "cell_type": "markdown",
      "source": [
        "6.Type casting in Python:\n",
        "In python if we change data type of any variable then the data type of origional\n",
        "variable is not changed but a new variable is created with changed data type is created."
      ],
      "metadata": {
        "id": "x7fbrt634YAX"
      }
    },
    {
      "cell_type": "code",
      "source": [
        "# Here though we have changed the data type of b but still when we printed its type\n",
        "# it is still a string as input funtion always takes input as sting but for purpose\n",
        "# of addition we type casted it to int.\n",
        "a = 1\n",
        "b = input ('Enter number')\n",
        "c = a +int(b)\n",
        "print(c)\n",
        "print(type(b))"
      ],
      "metadata": {
        "colab": {
          "base_uri": "https://localhost:8080/"
        },
        "id": "-Ou04R7A4zvz",
        "outputId": "4c19e5d0-519a-40b7-c37a-be68d1589139"
      },
      "execution_count": 45,
      "outputs": [
        {
          "output_type": "stream",
          "name": "stdout",
          "text": [
            "Enter number2\n",
            "3\n",
            "<class 'str'>\n"
          ]
        }
      ]
    },
    {
      "cell_type": "markdown",
      "source": [
        "7.The values which we assign to a varible is called a **literal**.\n",
        "Suppose a = 2 -> Here a is a variable = is operator and 2 is a literal."
      ],
      "metadata": {
        "id": "QfBjc89J6N13"
      }
    },
    {
      "cell_type": "markdown",
      "source": [
        "8.Python treat bullions as numbers.\n",
        "True = 1 and False = 0"
      ],
      "metadata": {
        "id": "5yd7BFum7KZU"
      }
    },
    {
      "cell_type": "code",
      "source": [
        "a = True + 1  # a = 1+1 = 2\n",
        "b = False + 3 # b = 0+3 = 3\n",
        "print ('a:',a)\n",
        "print('b:',b)"
      ],
      "metadata": {
        "colab": {
          "base_uri": "https://localhost:8080/"
        },
        "id": "x72PTf8_7TiU",
        "outputId": "e5b0f8af-4620-4a23-8691-e8d938896838"
      },
      "execution_count": 48,
      "outputs": [
        {
          "output_type": "stream",
          "name": "stdout",
          "text": [
            "a: 2\n",
            "b: 3\n"
          ]
        }
      ]
    }
  ]
}